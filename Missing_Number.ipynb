{
  "nbformat": 4,
  "nbformat_minor": 0,
  "metadata": {
    "colab": {
      "name": "Missing Number.ipynb",
      "provenance": [],
      "authorship_tag": "ABX9TyNT2JU/3Eq+Ej+0di4LT8eR",
      "include_colab_link": true
    },
    "kernelspec": {
      "name": "python3",
      "display_name": "Python 3"
    },
    "language_info": {
      "name": "python"
    }
  },
  "cells": [
    {
      "cell_type": "markdown",
      "metadata": {
        "id": "view-in-github",
        "colab_type": "text"
      },
      "source": [
        "<a href=\"https://colab.research.google.com/github/veenasnair18/30-Days-of-DSA/blob/main/Missing_Number.ipynb\" target=\"_parent\"><img src=\"https://colab.research.google.com/assets/colab-badge.svg\" alt=\"Open In Colab\"/></a>"
      ]
    },
    {
      "cell_type": "markdown",
      "source": [
        "Given an array nums containing n distinct numbers in the range [0, n], return the only number in the range that is missing from the array.\n",
        "> * Input: nums = [3,0,1]\n",
        "* Output: 2"
      ],
      "metadata": {
        "id": "S48Z0IJHLUn_"
      }
    },
    {
      "cell_type": "code",
      "execution_count": 21,
      "metadata": {
        "colab": {
          "base_uri": "https://localhost:8080/"
        },
        "id": "hTtaodGNLUB0",
        "outputId": "0e39a4af-9f06-430e-d03e-b3ecece22c79"
      },
      "outputs": [
        {
          "output_type": "stream",
          "name": "stdout",
          "text": [
            "3\n",
            "3\n",
            "0\n",
            "1\n",
            "[3, 0, 1]\n",
            "[0, 1, 2, 3]\n",
            "2\n"
          ]
        }
      ],
      "source": [
        "a = []\n",
        "c = []\n",
        "n = int(input())\n",
        "for i in range(n):\n",
        "  b = int(input())\n",
        "  a.append(b)\n",
        "print(a)\n",
        "for i in range(0,n+1,1):\n",
        "  c.append(i)\n",
        "print(c)\n",
        "a = list(set(a).symmetric_difference(set(c)))\n",
        "for i in range(len(a)):\n",
        "  b = a[i]\n",
        "print(b)"
      ]
    }
  ]
}