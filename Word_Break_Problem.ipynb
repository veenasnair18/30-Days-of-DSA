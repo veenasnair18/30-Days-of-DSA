{
  "nbformat": 4,
  "nbformat_minor": 0,
  "metadata": {
    "colab": {
      "name": "Word Break Problem.ipynb",
      "provenance": [],
      "authorship_tag": "ABX9TyOOPEP6gnFW/5JZCMWEk6hj",
      "include_colab_link": true
    },
    "kernelspec": {
      "name": "python3",
      "display_name": "Python 3"
    },
    "language_info": {
      "name": "python"
    }
  },
  "cells": [
    {
      "cell_type": "markdown",
      "metadata": {
        "id": "view-in-github",
        "colab_type": "text"
      },
      "source": [
        "<a href=\"https://colab.research.google.com/github/veenasnair18/30-Days-of-DSA/blob/main/Word_Break_Problem.ipynb\" target=\"_parent\"><img src=\"https://colab.research.google.com/assets/colab-badge.svg\" alt=\"Open In Colab\"/></a>"
      ]
    },
    {
      "cell_type": "markdown",
      "source": [
        "Given a string s and a dictionary of strings wordDict, return true if s can be segmented into a space-separated sequence of one or more dictionary words.\n",
        "\n",
        "Note that the same word in the dictionary may be reused multiple times in the segmentation.\n",
        "> * Input: s = \"leetcode\", wordDict = [\"leet\",\"code\"]\n",
        "* Output: true\n",
        "\n",
        "\n",
        "```\n",
        "class Solution:\n",
        "    def wordBreak(self, s: str, wordDict: List[str]) -> bool:\n",
        "        temp = [False] * (len(s) + 1)\n",
        "        temp[len(s)] = True\n",
        "        \n",
        "        for i in range(len(s) - 1, -1, -1):\n",
        "            for w in wordDict:\n",
        "                if (i + len(w)) <= len(s) and s[i : i + len(w)] == w:\n",
        "                    temp[i] = temp[i + len(w)]\n",
        "                if temp[i]:\n",
        "                    break\n",
        "        \n",
        "        return temp[0]\n",
        "```\n",
        "\n"
      ],
      "metadata": {
        "id": "TypmubvCkoYA"
      }
    }
  ]
}