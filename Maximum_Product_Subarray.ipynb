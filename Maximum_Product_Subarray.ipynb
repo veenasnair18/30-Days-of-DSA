{
  "nbformat": 4,
  "nbformat_minor": 0,
  "metadata": {
    "colab": {
      "name": "Maximum Product Subarray.ipynb",
      "provenance": [],
      "authorship_tag": "ABX9TyNH/rlLfcouDxX0arHpj1iZ",
      "include_colab_link": true
    },
    "kernelspec": {
      "name": "python3",
      "display_name": "Python 3"
    },
    "language_info": {
      "name": "python"
    }
  },
  "cells": [
    {
      "cell_type": "markdown",
      "metadata": {
        "id": "view-in-github",
        "colab_type": "text"
      },
      "source": [
        "<a href=\"https://colab.research.google.com/github/veenasnair18/30-Days-of-DSA/blob/main/Maximum_Product_Subarray.ipynb\" target=\"_parent\"><img src=\"https://colab.research.google.com/assets/colab-badge.svg\" alt=\"Open In Colab\"/></a>"
      ]
    },
    {
      "cell_type": "markdown",
      "source": [
        "Given an integer array nums, find a contiguous non-empty subarray within the array that has the largest product, and return the product.\n",
        "\n",
        "The test cases are generated so that the answer will fit in a 32-bit integer.\n",
        "\n",
        "A subarray is a contiguous subsequence of the array.\n",
        "> * Input: nums = [2,3,-2,4]\n",
        "* Output: 6\n",
        "* Explanation: [2,3] has the largest product 6."
      ],
      "metadata": {
        "id": "Oc4-aqqE_9Lp"
      }
    },
    {
      "cell_type": "code",
      "execution_count": 2,
      "metadata": {
        "colab": {
          "base_uri": "https://localhost:8080/"
        },
        "id": "GFvLTxRy_fSq",
        "outputId": "d433be64-3f65-4843-e41a-fe7928596406"
      },
      "outputs": [
        {
          "output_type": "stream",
          "name": "stdout",
          "text": [
            "4\n",
            "-2\n",
            "-1\n",
            "2\n",
            "3\n",
            "12\n"
          ]
        }
      ],
      "source": [
        "nums = []\n",
        "a = int(input())\n",
        "for i in range(a):\n",
        "  b = int(input())\n",
        "  nums.append(b)\n",
        "maxpro, minpro, prod = nums[0], nums[0], nums[0]\n",
        "for i in range(1, len(nums)):\n",
        "  x = max(nums[i], maxpro*nums[i], minpro*nums[i])\n",
        "  y = min(nums[i], maxpro*nums[i], minpro*nums[i])            \n",
        "  maxpro, minpro = x, y\n",
        "  prod = max(maxpro, prod)\n",
        "print(prod)"
      ]
    },
    {
      "cell_type": "code",
      "source": [
        ""
      ],
      "metadata": {
        "id": "zibXEnFCAC2c"
      },
      "execution_count": null,
      "outputs": []
    }
  ]
}