{
  "nbformat": 4,
  "nbformat_minor": 0,
  "metadata": {
    "colab": {
      "name": "House Robber.ipynb",
      "provenance": [],
      "authorship_tag": "ABX9TyPcxetJD1nJzSijfsN4u0hZ",
      "include_colab_link": true
    },
    "kernelspec": {
      "name": "python3",
      "display_name": "Python 3"
    },
    "language_info": {
      "name": "python"
    }
  },
  "cells": [
    {
      "cell_type": "markdown",
      "metadata": {
        "id": "view-in-github",
        "colab_type": "text"
      },
      "source": [
        "<a href=\"https://colab.research.google.com/github/veenasnair18/30-Days-of-DSA/blob/main/House_Robber.ipynb\" target=\"_parent\"><img src=\"https://colab.research.google.com/assets/colab-badge.svg\" alt=\"Open In Colab\"/></a>"
      ]
    },
    {
      "cell_type": "markdown",
      "source": [
        "\n",
        "You are a professional robber planning to rob houses along a street. Each house has a certain amount of money stashed, the only constraint stopping you from robbing each of them is that adjacent houses have security systems connected and it will automatically contact the police if two adjacent houses were broken into on the same night.\n",
        "\n",
        "Given an integer array nums representing the amount of money of each house, return the maximum amount of money you can rob tonight without alerting the police.\n",
        "```\n",
        "class Solution:\n",
        "    def rob(self, nums: List[int]) -> int:\n",
        "        total,rec = 0 , 0\n",
        "        \n",
        "        for i in nums: total, rec = rec, max(total + i, rec)\n",
        "                \n",
        "        return rec\n",
        "```\n",
        "\n"
      ],
      "metadata": {
        "id": "N2hRo2MhIkzM"
      }
    },
    {
      "cell_type": "code",
      "source": [
        ""
      ],
      "metadata": {
        "id": "I9St_uIgIsXm"
      },
      "execution_count": null,
      "outputs": []
    }
  ]
}