{
  "nbformat": 4,
  "nbformat_minor": 0,
  "metadata": {
    "colab": {
      "name": "Merged Intervals.ipynb",
      "provenance": [],
      "authorship_tag": "ABX9TyNAQin/GfllEHbU4prri1sq",
      "include_colab_link": true
    },
    "kernelspec": {
      "name": "python3",
      "display_name": "Python 3"
    },
    "language_info": {
      "name": "python"
    }
  },
  "cells": [
    {
      "cell_type": "markdown",
      "metadata": {
        "id": "view-in-github",
        "colab_type": "text"
      },
      "source": [
        "<a href=\"https://colab.research.google.com/github/veenasnair18/30-Days-of-DSA/blob/main/Merged_Intervals.ipynb\" target=\"_parent\"><img src=\"https://colab.research.google.com/assets/colab-badge.svg\" alt=\"Open In Colab\"/></a>"
      ]
    },
    {
      "cell_type": "markdown",
      "source": [
        "Given an array of intervals where intervals[i] = [starti, endi], merge all overlapping intervals, and return an array of the non-overlapping intervals that cover all the intervals in the input.\n",
        "\n",
        "* Input: intervals = [[1,3],[2,6],[8,10],[15,18]]\n",
        "\n",
        "* Output: [[1,6],[8,10],[15,18]]\n",
        "\n",
        "* Explanation: Since intervals [1,3] and [2,6] overlaps, merge them into [1,6].\n",
        "\n",
        "\n",
        "\n",
        "```\n",
        "n = len(intervals)\n",
        "        intervals.sort(key = lambda x : x[0])\n",
        "        l = [intervals[0]]\n",
        "        for i,j in intervals[1:]:\n",
        "            end = l[-1][1]\n",
        "            if i<=end:\n",
        "                l[-1][1] = max(end,j)\n",
        "            else:\n",
        "                l.append([i,j])\n",
        "        return l\n",
        "```\n",
        "\n"
      ],
      "metadata": {
        "id": "SpSYjyXqeS5_"
      }
    }
  ]
}