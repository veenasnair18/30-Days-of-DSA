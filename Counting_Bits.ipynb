{
  "nbformat": 4,
  "nbformat_minor": 0,
  "metadata": {
    "colab": {
      "name": "Counting Bits.ipynb",
      "provenance": [],
      "authorship_tag": "ABX9TyPvFAE13UKaik4QXK4PVa7Y",
      "include_colab_link": true
    },
    "kernelspec": {
      "name": "python3",
      "display_name": "Python 3"
    },
    "language_info": {
      "name": "python"
    }
  },
  "cells": [
    {
      "cell_type": "markdown",
      "metadata": {
        "id": "view-in-github",
        "colab_type": "text"
      },
      "source": [
        "<a href=\"https://colab.research.google.com/github/veenasnair18/30-Days-of-DSA/blob/main/Counting_Bits.ipynb\" target=\"_parent\"><img src=\"https://colab.research.google.com/assets/colab-badge.svg\" alt=\"Open In Colab\"/></a>"
      ]
    },
    {
      "cell_type": "markdown",
      "source": [
        "Given an integer n, return an array ans of length n + 1 such that for each i (0 <= i <= n), ans[i] is the number of 1's in the binary representation of i.\n",
        "\n",
        "\n",
        "> * Input: n = 2\n",
        "* Output: [0,1,1]\n",
        "\n",
        "\n",
        "```\n",
        "public int[] countBits(int num) {\n",
        "    int[] f = new int[num + 1];\n",
        "    for (int i=1; i<=num; i++) f[i] = f[i >> 1] + (i & 1);\n",
        "    return f;\n",
        "}\n",
        "```\n",
        "\n",
        "\n",
        "\n",
        "\n",
        "\n"
      ],
      "metadata": {
        "id": "yMfbtRopAwQP"
      }
    }
  ]
}