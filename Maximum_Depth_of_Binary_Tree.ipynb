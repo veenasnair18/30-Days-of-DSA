{
  "nbformat": 4,
  "nbformat_minor": 0,
  "metadata": {
    "colab": {
      "name": "Maximum Depth of Binary Tree.ipynb",
      "provenance": [],
      "authorship_tag": "ABX9TyMHHc81yu9PuiRYMnidE+n1",
      "include_colab_link": true
    },
    "kernelspec": {
      "name": "python3",
      "display_name": "Python 3"
    },
    "language_info": {
      "name": "python"
    }
  },
  "cells": [
    {
      "cell_type": "markdown",
      "metadata": {
        "id": "view-in-github",
        "colab_type": "text"
      },
      "source": [
        "<a href=\"https://colab.research.google.com/github/veenasnair18/30-Days-of-DSA/blob/main/Maximum_Depth_of_Binary_Tree.ipynb\" target=\"_parent\"><img src=\"https://colab.research.google.com/assets/colab-badge.svg\" alt=\"Open In Colab\"/></a>"
      ]
    },
    {
      "cell_type": "markdown",
      "source": [
        "Given the root of a binary tree, return its maximum depth.\n",
        "\n",
        "A binary tree's maximum depth is the number of nodes along the longest path from the root node down to the farthest leaf node\n",
        "> * Input: root = [3,9,20,null,null,15,7]\n",
        "* Output: 3\n",
        "\n",
        "\n",
        "```\n",
        "class Solution:\n",
        "    def maxDepth(self, root: Optional[TreeNode]) -> int:\n",
        "        def dfs(root, depth):\n",
        "            if not root: return depth\n",
        "            return max(dfs(root.left, depth + 1), dfs(root.right, depth + 1))\n",
        "                       \n",
        "        return dfs(root, 0)\n",
        "```\n",
        "\n",
        "\n"
      ],
      "metadata": {
        "id": "dn9YKXO8VoHO"
      }
    }
  ]
}