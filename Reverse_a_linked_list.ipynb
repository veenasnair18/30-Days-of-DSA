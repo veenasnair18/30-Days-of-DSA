{
  "nbformat": 4,
  "nbformat_minor": 0,
  "metadata": {
    "colab": {
      "name": "Reverse a linked list.ipynb",
      "provenance": [],
      "authorship_tag": "ABX9TyO575GUaWDK0Rvcp1v16y8i",
      "include_colab_link": true
    },
    "kernelspec": {
      "name": "python3",
      "display_name": "Python 3"
    },
    "language_info": {
      "name": "python"
    }
  },
  "cells": [
    {
      "cell_type": "markdown",
      "metadata": {
        "id": "view-in-github",
        "colab_type": "text"
      },
      "source": [
        "<a href=\"https://colab.research.google.com/github/veenasnair18/30-Days-of-DSA/blob/main/Reverse_a_linked_list.ipynb\" target=\"_parent\"><img src=\"https://colab.research.google.com/assets/colab-badge.svg\" alt=\"Open In Colab\"/></a>"
      ]
    },
    {
      "cell_type": "markdown",
      "source": [
        "Given the head of a singly linked list, reverse the list, and return the reversed list.\n",
        "\n",
        "\n",
        "> * Input: head = [1,2,3,4,5]\n",
        "* Output: [5,4,3,2,1]\n",
        "\n",
        "\n",
        "\n",
        "```\n",
        "class Solution:\n",
        "    def reverseList(self, head: Optional[ListNode]) -> Optional[ListNode]:\n",
        "        prev = None\n",
        "        while head:\n",
        "            cur = head\n",
        "            head = head.next\n",
        "            cur.next = prev\n",
        "            prev = cur\n",
        "        return prev\n",
        "```\n",
        "\n"
      ],
      "metadata": {
        "id": "_citiFTEpuO3"
      }
    }
  ]
}