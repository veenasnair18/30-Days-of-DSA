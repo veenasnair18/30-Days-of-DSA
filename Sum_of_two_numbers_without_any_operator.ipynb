{
  "nbformat": 4,
  "nbformat_minor": 0,
  "metadata": {
    "colab": {
      "name": "Sum of two numbers without any operator.ipynb",
      "provenance": [],
      "authorship_tag": "ABX9TyMmBTf1fwtMLc891vcZEqpe",
      "include_colab_link": true
    },
    "kernelspec": {
      "name": "python3",
      "display_name": "Python 3"
    },
    "language_info": {
      "name": "python"
    }
  },
  "cells": [
    {
      "cell_type": "markdown",
      "metadata": {
        "id": "view-in-github",
        "colab_type": "text"
      },
      "source": [
        "<a href=\"https://colab.research.google.com/github/veenasnair18/30-Days-of-DSA/blob/main/Sum_of_two_numbers_without_any_operator.ipynb\" target=\"_parent\"><img src=\"https://colab.research.google.com/assets/colab-badge.svg\" alt=\"Open In Colab\"/></a>"
      ]
    },
    {
      "cell_type": "markdown",
      "source": [
        "Given two integers a and b, return the sum of the two integers without using the operators + and -."
      ],
      "metadata": {
        "id": "4Vd6DS7nN83E"
      }
    },
    {
      "cell_type": "code",
      "source": [
        "a = 4\n",
        "b = 3\n",
        "while(b!=0):\n",
        "  rem = a & b\n",
        "  a = a ^ b\n",
        "  b = rem << 1\n",
        "print(a)"
      ],
      "metadata": {
        "colab": {
          "base_uri": "https://localhost:8080/"
        },
        "id": "gsVzoga1PERF",
        "outputId": "3e6b2898-fa2b-4331-e6e7-fcf586b921fd"
      },
      "execution_count": 9,
      "outputs": [
        {
          "output_type": "stream",
          "name": "stdout",
          "text": [
            "7\n"
          ]
        }
      ]
    },
    {
      "cell_type": "markdown",
      "source": [
        "Do it in java. Because it will exceed time limit in python."
      ],
      "metadata": {
        "id": "Gk6mZubCTm32"
      }
    },
    {
      "cell_type": "code",
      "source": [
        ""
      ],
      "metadata": {
        "id": "iQr0wcRuPV9M"
      },
      "execution_count": null,
      "outputs": []
    }
  ]
}