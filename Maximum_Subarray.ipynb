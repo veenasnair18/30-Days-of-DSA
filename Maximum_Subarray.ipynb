{
  "nbformat": 4,
  "nbformat_minor": 0,
  "metadata": {
    "colab": {
      "name": "Maximum Subarray.ipynb",
      "provenance": [],
      "authorship_tag": "ABX9TyNwsksU1KNmXgS/HESStbKn",
      "include_colab_link": true
    },
    "kernelspec": {
      "name": "python3",
      "display_name": "Python 3"
    },
    "language_info": {
      "name": "python"
    }
  },
  "cells": [
    {
      "cell_type": "markdown",
      "metadata": {
        "id": "view-in-github",
        "colab_type": "text"
      },
      "source": [
        "<a href=\"https://colab.research.google.com/github/veenasnair18/30-Days-of-DSA/blob/main/Maximum_Subarray.ipynb\" target=\"_parent\"><img src=\"https://colab.research.google.com/assets/colab-badge.svg\" alt=\"Open In Colab\"/></a>"
      ]
    },
    {
      "cell_type": "markdown",
      "source": [
        "Given an integer array nums, find the contiguous subarray (containing at least one number) which has the largest sum and return its sum.\n",
        "\n",
        "A subarray is a contiguous part of an array.\n",
        "> * Input: nums = [-2,1,-3,4,-1,2,1,-5,4]\n",
        "* Output: 6\n",
        "* Explanation: [4,-1,2,1] has the largest sum = 6."
      ],
      "metadata": {
        "id": "X7aIxeRNLsFS"
      }
    },
    {
      "cell_type": "code",
      "execution_count": 3,
      "metadata": {
        "colab": {
          "base_uri": "https://localhost:8080/"
        },
        "id": "ZaWrjjMzLpvb",
        "outputId": "1cd621de-31d5-4232-bc42-ada235717e2a"
      },
      "outputs": [
        {
          "output_type": "stream",
          "name": "stdout",
          "text": [
            "5\n",
            "2\n",
            "-1\n",
            "3\n",
            "-2\n",
            "5\n",
            "7\n"
          ]
        }
      ],
      "source": [
        "n = int(input())\n",
        "arr = []\n",
        "for i in range(n):\n",
        "  a = int(input())\n",
        "  arr.append(a)\n",
        "subarr = arr[0]\n",
        "val = 0\n",
        "for i in arr:\n",
        "  if val<0:\n",
        "    val = 0\n",
        "  val += i\n",
        "  subarr = max(val,subarr)\n",
        "print(subarr)"
      ]
    },
    {
      "cell_type": "code",
      "source": [
        "class Solution:\n",
        "    def maxSubArray(self, nums: List[int]) -> int:\n",
        "        subarr = nums[0]\n",
        "        val = 0\n",
        "        for i in nums:\n",
        "            if val<0:\n",
        "                val = 0\n",
        "            val += i\n",
        "            subarr = max(subarr,val)\n",
        "        return(subarr)"
      ],
      "metadata": {
        "id": "dCRPAzFruCs1"
      },
      "execution_count": null,
      "outputs": []
    }
  ]
}