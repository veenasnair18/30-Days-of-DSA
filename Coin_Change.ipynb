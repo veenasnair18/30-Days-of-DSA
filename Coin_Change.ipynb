{
  "nbformat": 4,
  "nbformat_minor": 0,
  "metadata": {
    "colab": {
      "name": "Coin Change.ipynb",
      "provenance": [],
      "authorship_tag": "ABX9TyMuJvK+EV40TiJxL05hu2Ti",
      "include_colab_link": true
    },
    "kernelspec": {
      "name": "python3",
      "display_name": "Python 3"
    },
    "language_info": {
      "name": "python"
    }
  },
  "cells": [
    {
      "cell_type": "markdown",
      "metadata": {
        "id": "view-in-github",
        "colab_type": "text"
      },
      "source": [
        "<a href=\"https://colab.research.google.com/github/veenasnair18/30-Days-of-DSA/blob/main/Coin_Change.ipynb\" target=\"_parent\"><img src=\"https://colab.research.google.com/assets/colab-badge.svg\" alt=\"Open In Colab\"/></a>"
      ]
    },
    {
      "cell_type": "markdown",
      "source": [
        "You are given an integer array coins representing coins of different denominations and an integer amount representing a total amount of money.\n",
        "\n",
        "Return the fewest number of coins that you need to make up that amount. If that amount of money cannot be made up by any combination of the coins, return -1.\n",
        "\n",
        "You may assume that you have an infinite number of each kind of coin.\n",
        "> * Input: coins = [1,2,5], amount = 11\n",
        "* Output: 3\n",
        "* Explanation: 11 = 5 + 5 + 1\n",
        "\n",
        "\n",
        "```\n",
        "class Solution:\n",
        "    def coinChange(self, coins: List[int], amount: int) -> int:\n",
        "        counts = 0\n",
        "        dp =[amount + 1] * (amount + 1)\n",
        "        dp[0] = 0\n",
        "        for a in range(1,amount+1):\n",
        "            for c in coins:\n",
        "                if a-c >= 0:\n",
        "                    dp[a] = min(dp[a],1+dp[a-c])\n",
        "        return dp[amount] if dp[amount] != amount + 1 else -1\n",
        "```\n",
        "\n"
      ],
      "metadata": {
        "id": "we6vI9SVNKfA"
      }
    }
  ]
}