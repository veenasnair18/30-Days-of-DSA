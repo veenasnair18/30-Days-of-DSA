{
  "nbformat": 4,
  "nbformat_minor": 0,
  "metadata": {
    "colab": {
      "name": "Combination Sum.ipynb",
      "provenance": [],
      "authorship_tag": "ABX9TyMDYfFBFN5I7i2jcneQslSK",
      "include_colab_link": true
    },
    "kernelspec": {
      "name": "python3",
      "display_name": "Python 3"
    },
    "language_info": {
      "name": "python"
    }
  },
  "cells": [
    {
      "cell_type": "markdown",
      "metadata": {
        "id": "view-in-github",
        "colab_type": "text"
      },
      "source": [
        "<a href=\"https://colab.research.google.com/github/veenasnair18/30-Days-of-DSA/blob/main/Combination_Sum.ipynb\" target=\"_parent\"><img src=\"https://colab.research.google.com/assets/colab-badge.svg\" alt=\"Open In Colab\"/></a>"
      ]
    },
    {
      "cell_type": "markdown",
      "source": [
        "Given an array of distinct integers candidates and a target integer target, return a list of all unique combinations of candidates where the chosen numbers sum to target. You may return the combinations in any order.\n",
        "\n",
        "The same number may be chosen from candidates an unlimited number of times. Two combinations are unique if the frequency of at least one of the chosen numbers is different.\n",
        "\n",
        "It is guaranteed that the number of unique combinations that sum up to target is less than 150 combinations for the given input.\n",
        "> * Input: candidates = [2,3,6,7], target = 7\n",
        "* Output: [[2,2,3],[7]]\n",
        "\n",
        "\n",
        "\n",
        "```\n",
        "class Solution:\n",
        "    def combinationSum(self, candidates: List[int], target: int) -> List[List[int]]:\n",
        "        ans = []\n",
        "        n = len(candidates)\n",
        "        def dfs(cur, cur_sum, idx):                       # try out each possible cases\n",
        "            if cur_sum > target: return                   # this is the case, cur_sum will never equal to target\n",
        "            if cur_sum == target: ans.append(cur); return # if equal, add to `ans`\n",
        "            for i in range(idx, n): dfs(cur + [candidates[i]], cur_sum + candidates[i], i) # DFS\n",
        "        dfs([], 0, 0)\n",
        "        return ans \n",
        "```\n",
        "\n"
      ],
      "metadata": {
        "id": "Nv8qdgy13arT"
      }
    },
    {
      "cell_type": "code",
      "source": [
        ""
      ],
      "metadata": {
        "id": "zxCVgkhL9eMi"
      },
      "execution_count": null,
      "outputs": []
    }
  ]
}