{
  "nbformat": 4,
  "nbformat_minor": 0,
  "metadata": {
    "colab": {
      "name": "Valid Palindrome.ipynb",
      "provenance": [],
      "authorship_tag": "ABX9TyM6jcx+/J9jXX4RlEgfX/K3",
      "include_colab_link": true
    },
    "kernelspec": {
      "name": "python3",
      "display_name": "Python 3"
    },
    "language_info": {
      "name": "python"
    }
  },
  "cells": [
    {
      "cell_type": "markdown",
      "metadata": {
        "id": "view-in-github",
        "colab_type": "text"
      },
      "source": [
        "<a href=\"https://colab.research.google.com/github/veenasnair18/30-Days-of-DSA/blob/main/Valid_Palindrome.ipynb\" target=\"_parent\"><img src=\"https://colab.research.google.com/assets/colab-badge.svg\" alt=\"Open In Colab\"/></a>"
      ]
    },
    {
      "cell_type": "markdown",
      "source": [
        "A phrase is a palindrome if, after converting all uppercase letters into lowercase letters and removing all non-alphanumeric characters, it reads the same forward and backward. Alphanumeric characters include letters and numbers.\n",
        "\n",
        "Given a string s, return true if it is a palindrome, or false otherwise.\n",
        "\n",
        "\n",
        "> * Input: s = \"A man, a plan, a canal: Panama\"\n",
        "* Output: true\n",
        "* Explanation: \"amanaplanacanalpanama\" is a palindrome.\n",
        "\n",
        "\n",
        "\n",
        "\n",
        "\n"
      ],
      "metadata": {
        "id": "MoAvTDLHBbFj"
      }
    },
    {
      "cell_type": "code",
      "source": [
        "s = input(\"\") #my test code\n",
        "r = s[::-1]\n",
        "strs = (''.join(ch for ch in s if ch.isalnum())).lower()\n",
        "strr = (''.join(ch for ch in r if ch.isalnum())).lower()\n",
        "if (strs==strr or s==\" \"):\n",
        "  print(1)\n",
        "  #return True\n",
        "else:\n",
        "  print(2)\n",
        "  #return False"
      ],
      "metadata": {
        "colab": {
          "base_uri": "https://localhost:8080/"
        },
        "id": "3rKaQM1dDR_k",
        "outputId": "2a1be716-4b03-4f61-c698-3bb61c3396e4"
      },
      "execution_count": 26,
      "outputs": [
        {
          "output_type": "stream",
          "name": "stdout",
          "text": [
            "A man, a plan, a canal: Panama\n",
            "1\n"
          ]
        }
      ]
    },
    {
      "cell_type": "code",
      "source": [
        "class Solution:   #leetcode solution\n",
        "    def isPalindrome(self, s: str) -> bool:\n",
        "        r = s[::-1]\n",
        "        strs = (''.join(ch for ch in s if ch.isalnum())).lower()\n",
        "        strr = (''.join(ch for ch in r if ch.isalnum())).lower()\n",
        "        if (strs==strr or s==\" \"):\n",
        "            return True\n",
        "        else:\n",
        "            return False"
      ],
      "metadata": {
        "id": "jnGqxoioGNUB"
      },
      "execution_count": null,
      "outputs": []
    }
  ]
}