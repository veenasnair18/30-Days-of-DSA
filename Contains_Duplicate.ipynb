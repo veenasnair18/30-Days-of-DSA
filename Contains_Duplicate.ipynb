{
  "nbformat": 4,
  "nbformat_minor": 0,
  "metadata": {
    "colab": {
      "name": "Contains Duplicate.ipynb",
      "provenance": [],
      "authorship_tag": "ABX9TyOe9uobcimoPxb1V7EFc3RT",
      "include_colab_link": true
    },
    "kernelspec": {
      "name": "python3",
      "display_name": "Python 3"
    },
    "language_info": {
      "name": "python"
    }
  },
  "cells": [
    {
      "cell_type": "markdown",
      "metadata": {
        "id": "view-in-github",
        "colab_type": "text"
      },
      "source": [
        "<a href=\"https://colab.research.google.com/github/veenasnair18/30-Days-of-DSA/blob/main/Contains_Duplicate.ipynb\" target=\"_parent\"><img src=\"https://colab.research.google.com/assets/colab-badge.svg\" alt=\"Open In Colab\"/></a>"
      ]
    },
    {
      "cell_type": "markdown",
      "source": [
        "Given an integer array nums, return true if any value appears at least twice in the array, and return false if every element is distinct.\n",
        "\n",
        "\n",
        "> * Input: nums = [1,2,3,1]\n",
        "* Output: true\n",
        "\n"
      ],
      "metadata": {
        "id": "UBnk2ldcfZ5j"
      }
    },
    {
      "cell_type": "code",
      "execution_count": 21,
      "metadata": {
        "colab": {
          "base_uri": "https://localhost:8080/"
        },
        "id": "XMhjqyVKfZKr",
        "outputId": "b1c1451d-1643-44ba-c70c-430c72b5862b"
      },
      "outputs": [
        {
          "output_type": "stream",
          "name": "stdout",
          "text": [
            "4\n",
            "1\n",
            "2\n",
            "3\n",
            "1\n",
            "1\n",
            "True\n"
          ]
        }
      ],
      "source": [
        "n = int(input())\n",
        "nums = []\n",
        "uniq = []\n",
        "flag = 0\n",
        "for i in range(n):\n",
        "  a = int(input())\n",
        "  nums.append(a)\n",
        "for i in range(len(nums)):\n",
        "  for j in range(0,i):\n",
        "    if(nums[i]==nums[j]):\n",
        "      flag +=1\n",
        "print(flag)\n",
        "if(flag>=1):\n",
        "  print(True)\n",
        "else:\n",
        "  print(False)"
      ]
    },
    {
      "cell_type": "code",
      "source": [
        "nums = [1,2,3,1,2]\n",
        "print(len(set(nums)) != len(nums))"
      ],
      "metadata": {
        "colab": {
          "base_uri": "https://localhost:8080/"
        },
        "id": "4ujl5E-5i9U-",
        "outputId": "bcfcf14f-b666-4787-c969-892ea868a45b"
      },
      "execution_count": 22,
      "outputs": [
        {
          "output_type": "stream",
          "name": "stdout",
          "text": [
            "True\n"
          ]
        }
      ]
    }
  ]
}