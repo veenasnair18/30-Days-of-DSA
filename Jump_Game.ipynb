{
  "nbformat": 4,
  "nbformat_minor": 0,
  "metadata": {
    "colab": {
      "name": "Jump Game.ipynb",
      "provenance": [],
      "authorship_tag": "ABX9TyOPorBvI0LQl6GPPBPlCvXt",
      "include_colab_link": true
    },
    "kernelspec": {
      "name": "python3",
      "display_name": "Python 3"
    },
    "language_info": {
      "name": "python"
    }
  },
  "cells": [
    {
      "cell_type": "markdown",
      "metadata": {
        "id": "view-in-github",
        "colab_type": "text"
      },
      "source": [
        "<a href=\"https://colab.research.google.com/github/veenasnair18/30-Days-of-DSA/blob/main/Jump_Game.ipynb\" target=\"_parent\"><img src=\"https://colab.research.google.com/assets/colab-badge.svg\" alt=\"Open In Colab\"/></a>"
      ]
    },
    {
      "cell_type": "markdown",
      "source": [
        "You are given an integer array nums. You are initially positioned at the array's first index, and each element in the array represents your maximum jump length at that position.\n",
        "\n",
        "Return true if you can reach the last index, or false otherwise.\n",
        ">* Input: nums = [2,3,1,1,4]\n",
        "* Output: true\n",
        "* Explanation: Jump 1 step from index 0 to 1, then 3 steps to the last index.\n",
        "\n",
        "\n",
        "\n",
        "```\n",
        "class Solution:\n",
        "    def canJump(self, nums: List[int]) -> bool:\n",
        "        goal = 0\n",
        "        for counts,no in enumerate(nums):\n",
        "            if counts>goal:\n",
        "                return False\n",
        "            goal = max(goal,counts+no)\n",
        "        return True\n",
        "```\n",
        "\n"
      ],
      "metadata": {
        "id": "9fIeekGaVDZb"
      }
    }
  ]
}