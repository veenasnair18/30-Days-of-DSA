{
  "nbformat": 4,
  "nbformat_minor": 0,
  "metadata": {
    "colab": {
      "name": "Find Minimum in Rotated Sorted Array.ipynb",
      "provenance": [],
      "authorship_tag": "ABX9TyNy/3/2cP3mD3NyADd/jmq1",
      "include_colab_link": true
    },
    "kernelspec": {
      "name": "python3",
      "display_name": "Python 3"
    },
    "language_info": {
      "name": "python"
    }
  },
  "cells": [
    {
      "cell_type": "markdown",
      "metadata": {
        "id": "view-in-github",
        "colab_type": "text"
      },
      "source": [
        "<a href=\"https://colab.research.google.com/github/veenasnair18/30-Days-of-DSA/blob/main/Find_Minimum_in_Rotated_Sorted_Array.ipynb\" target=\"_parent\"><img src=\"https://colab.research.google.com/assets/colab-badge.svg\" alt=\"Open In Colab\"/></a>"
      ]
    },
    {
      "cell_type": "markdown",
      "source": [
        "Suppose an array of length n sorted in ascending order is rotated between 1 and n times. For example, the array nums = [0,1,2,4,5,6,7] might become:\n",
        "\n",
        "[4,5,6,7,0,1,2] if it was rotated 4 times.\n",
        "[0,1,2,4,5,6,7] if it was rotated 7 times.\n",
        "Notice that rotating an array [a[0], a[1], a[2], ..., a[n-1]] 1 time results in the array [a[n-1], a[0], a[1], a[2], ..., a[n-2]].\n",
        "\n",
        "Given the sorted rotated array nums of unique elements, return the minimum element of this array.\n",
        "\n",
        "You must write an algorithm that runs in O(log n) time\n",
        "> * Input: nums = [3,4,5,1,2]\n",
        "* Output: 1"
      ],
      "metadata": {
        "id": "Uao4YTQjFEO6"
      }
    },
    {
      "cell_type": "markdown",
      "source": [
        "\n",
        "\n",
        "```\n",
        "class Solution:\n",
        "    def findMin(self, nums):\n",
        "        \"\"\"\n",
        "        :type nums: List[int]\n",
        "        :rtype: int\n",
        "        \"\"\"\n",
        "        # set left and right bounds\n",
        "        left, right = 0, len(nums)-1\n",
        "                \n",
        "        # left and right both converge to the minimum index;\n",
        "        # DO NOT use left <= right because that would loop forever\n",
        "        while left < right:\n",
        "            # find the middle value between the left and right bounds (their average);\n",
        "\t\t\t# can equivalently do: mid = left + (right - left) // 2,\n",
        "\t\t\t# if we are concerned left + right would cause overflow (which would occur\n",
        "\t\t\t# if we are searching a massive array using a language like Java or C that has\n",
        "\t\t\t# fixed size integer types)\n",
        "            mid = (left + right) // 2\n",
        "                        \n",
        "            # the main idea for our checks is to converge the left and right bounds on the start\n",
        "            # of the pivot, and never disqualify the index for a possible minimum value.\n",
        "\n",
        "            # in normal binary search, we have a target to match exactly,\n",
        "            # and would have a specific branch for if nums[mid] == target.\n",
        "            # we do not have a specific target here, so we just have simple if/else.\n",
        "                        \n",
        "            if nums[mid] > nums[right]:\n",
        "                # we KNOW the pivot must be to the right of the middle:\n",
        "                # if nums[mid] > nums[right], we KNOW that the\n",
        "                # pivot/minimum value must have occurred somewhere to the right\n",
        "                # of mid, which is why the values wrapped around and became smaller.\n",
        "\n",
        "                # example:  [3,4,5,6,7,8,9,1,2] \n",
        "                # in the first iteration, when we start with mid index = 4, right index = 9.\n",
        "                # if nums[mid] > nums[right], we know that at some point to the right of mid,\n",
        "                # the pivot must have occurred, which is why the values wrapped around\n",
        "                # so that nums[right] is less then nums[mid]\n",
        "\n",
        "                # we know that the number at mid is greater than at least\n",
        "                # one number to the right, so we can use mid + 1 and\n",
        "                # never consider mid again; we know there is at least\n",
        "                # one value smaller than it on the right\n",
        "                left = mid + 1\n",
        "\n",
        "            else:\n",
        "                # here, nums[mid] <= nums[right]:\n",
        "                # we KNOW the pivot must be at mid or to the left of mid:\n",
        "                # if nums[mid] <= nums[right], we KNOW that the pivot was not encountered\n",
        "                # to the right of middle, because that means the values would wrap around\n",
        "                # and become smaller (which is caught in the above if statement).\n",
        "                # this leaves the possible pivot point to be at index <= mid.\n",
        "                            \n",
        "                # example: [8,9,1,2,3,4,5,6,7]\n",
        "                # in the first iteration, when we start with mid index = 4, right index = 9.\n",
        "                # if nums[mid] <= nums[right], we know the numbers continued increasing to\n",
        "                # the right of mid, so they never reached the pivot and wrapped around.\n",
        "                # therefore, we know the pivot must be at index <= mid.\n",
        "\n",
        "                # we know that nums[mid] <= nums[right].\n",
        "                # therefore, we know it is possible for the mid index to store a smaller\n",
        "                # value than at least one other index in the list (at right), so we do\n",
        "                # not discard it by doing right = mid - 1. it still might have the minimum value.\n",
        "                right = mid\n",
        "                \n",
        "        # at this point, left and right converge to a single index (for minimum value) since\n",
        "        # our if/else forces the bounds of left/right to shrink each iteration:\n",
        "\n",
        "        # when left bound increases, it does not disqualify a value\n",
        "        # that could be smaller than something else (we know nums[mid] > nums[right],\n",
        "        # so nums[right] wins and we ignore mid and everything to the left of mid).\n",
        "\n",
        "        # when right bound decreases, it also does not disqualify a\n",
        "        # value that could be smaller than something else (we know nums[mid] <= nums[right],\n",
        "        # so nums[mid] wins and we keep it for now).\n",
        "\n",
        "        # so we shrink the left/right bounds to one value,\n",
        "        # without ever disqualifying a possible minimum\n",
        "        return nums[left]\n",
        "```\n",
        "\n"
      ],
      "metadata": {
        "id": "ix0q394aSmw4"
      }
    },
    {
      "cell_type": "code",
      "source": [
        "a = []\n",
        "l = int(input())\n",
        "for i in range(l):\n",
        "  n = int(input())\n",
        "  a.append(n)\n",
        "l,r = 0,len(a)-1\n",
        "while l < r:\n",
        "  mid = (l + r) // 2\n",
        "  if a[mid] > a[r]:\n",
        "    l = mid+1\n",
        "  else:\n",
        "    r = mid\n",
        "print(a[l])"
      ],
      "metadata": {
        "colab": {
          "base_uri": "https://localhost:8080/"
        },
        "id": "NYWYMT3vSobB",
        "outputId": "d249a86d-d81a-4cf2-80fb-480112c709aa"
      },
      "execution_count": 6,
      "outputs": [
        {
          "output_type": "stream",
          "name": "stdout",
          "text": [
            "5\n",
            "2\n",
            "3\n",
            "6\n",
            "1\n",
            "9\n",
            "2\n"
          ]
        }
      ]
    }
  ]
}