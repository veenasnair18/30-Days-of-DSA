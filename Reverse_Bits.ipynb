{
  "nbformat": 4,
  "nbformat_minor": 0,
  "metadata": {
    "colab": {
      "name": "Reverse Bits.ipynb",
      "provenance": [],
      "authorship_tag": "ABX9TyNRN6/J/AtBuDOoZFmie07o",
      "include_colab_link": true
    },
    "kernelspec": {
      "name": "python3",
      "display_name": "Python 3"
    },
    "language_info": {
      "name": "python"
    }
  },
  "cells": [
    {
      "cell_type": "markdown",
      "metadata": {
        "id": "view-in-github",
        "colab_type": "text"
      },
      "source": [
        "<a href=\"https://colab.research.google.com/github/veenasnair18/30-Days-of-DSA/blob/main/Reverse_Bits.ipynb\" target=\"_parent\"><img src=\"https://colab.research.google.com/assets/colab-badge.svg\" alt=\"Open In Colab\"/></a>"
      ]
    },
    {
      "cell_type": "markdown",
      "source": [
        "Reverse bits of a given 32 bits unsigned integer.\n",
        "\n",
        "Note:\n",
        "\n",
        "* Note that in some languages, such as Java, there is no unsigned integer type. In this case, both input and output will be given as a signed integer type. They should not affect your implementation, as the integer's internal binary representation is the same, whether it is signed or unsigned.\n",
        "* In Java, the compiler represents the signed integers using 2's complement notation. Therefore, in Example 2 above, the input represents the signed integer -3 and the output represents the signed integer -1073741825.\n",
        "> * Input: n = 00000010100101000001111010011100\n",
        " * Output:    964176192 (00111001011110000010100101000000)\n",
        " * Explanation: The input binary string 00000010100101000001111010011100 represents the unsigned integer 43261596, so return 964176192 which its binary representation is 00111001011110000010100101000000."
      ],
      "metadata": {
        "id": "l3JPvS2upHHx"
      }
    },
    {
      "cell_type": "code",
      "execution_count": 11,
      "metadata": {
        "colab": {
          "base_uri": "https://localhost:8080/"
        },
        "id": "L_otNj71pAn6",
        "outputId": "dd429d37-415f-4111-ec75-9ce1559335aa"
      },
      "outputs": [
        {
          "output_type": "stream",
          "name": "stdout",
          "text": [
            "12345678\n",
            "12345678\n",
            "87654321\n"
          ]
        }
      ],
      "source": [
        "n = int(input())\n",
        "al = str(n)\n",
        "print(al)\n",
        "l = list(al)\n",
        "l.reverse()\n",
        "a = ''.join([str(elem) for elem in l])\n",
        "print(a)"
      ]
    },
    {
      "cell_type": "markdown",
      "source": [
        "**Used java**\n",
        "```\n",
        "  public int reverseBits(int n) {\n",
        "        if (n == 0) \n",
        "            return 0;\n",
        "        int ans = 0,i;\n",
        "        for (i = 0; i < 32; i++) {\n",
        "            ans <<= 1;\n",
        "            if ((n & 1) == 1)\n",
        "                ans++;\n",
        "                n >>= 1;\n",
        "    }\n",
        "        return ans;\n",
        "}\n",
        "}\n",
        "```\n",
        "\n"
      ],
      "metadata": {
        "id": "ZLp9C8bSwYEP"
      }
    },
    {
      "cell_type": "code",
      "source": [
        ""
      ],
      "metadata": {
        "id": "mzcFs0ZDwuqD"
      },
      "execution_count": null,
      "outputs": []
    }
  ]
}