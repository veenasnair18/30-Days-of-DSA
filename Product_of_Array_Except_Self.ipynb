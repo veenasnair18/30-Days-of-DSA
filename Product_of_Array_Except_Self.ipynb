{
  "nbformat": 4,
  "nbformat_minor": 0,
  "metadata": {
    "colab": {
      "name": "Product of Array Except Self.ipynb",
      "provenance": [],
      "authorship_tag": "ABX9TyNbwOHd5q0ddPU9R1/k350I",
      "include_colab_link": true
    },
    "kernelspec": {
      "name": "python3",
      "display_name": "Python 3"
    },
    "language_info": {
      "name": "python"
    }
  },
  "cells": [
    {
      "cell_type": "markdown",
      "metadata": {
        "id": "view-in-github",
        "colab_type": "text"
      },
      "source": [
        "<a href=\"https://colab.research.google.com/github/veenasnair18/30-Days-of-DSA/blob/main/Product_of_Array_Except_Self.ipynb\" target=\"_parent\"><img src=\"https://colab.research.google.com/assets/colab-badge.svg\" alt=\"Open In Colab\"/></a>"
      ]
    },
    {
      "cell_type": "markdown",
      "source": [
        "Given an integer array nums, return an array answer such that answer[i] is equal to the product of all the elements of nums except nums[i].\n",
        "\n",
        "The product of any prefix or suffix of nums is guaranteed to fit in a 32-bit integer.\n",
        "\n",
        "You must write an algorithm that runs in O(n) time and without using the division operation.\n",
        "\n",
        "\n",
        "> * Input: nums = [1,2,3,4]\n",
        "* Output: [24,12,8,6]\n",
        "\n"
      ],
      "metadata": {
        "id": "GYJqWvs3orJG"
      }
    },
    {
      "cell_type": "code",
      "execution_count": 8,
      "metadata": {
        "colab": {
          "base_uri": "https://localhost:8080/"
        },
        "id": "s2VXVKD_opIz",
        "outputId": "45103097-d957-465f-fc42-f89d1c302e80"
      },
      "outputs": [
        {
          "output_type": "stream",
          "name": "stdout",
          "text": [
            "3\n",
            "1\n",
            "2\n",
            "3\n",
            "[6, 3, 2]\n"
          ]
        }
      ],
      "source": [
        "arrays = []\n",
        "n = int(input())\n",
        "for i in range(n):\n",
        "  a = int(input())\n",
        "  arrays.append(a)\n",
        "ans = [1] * (len(arrays))\n",
        "pre = 1\n",
        "pos = 1\n",
        "for i in range(len(arrays)):\n",
        "  ans[i] = pre\n",
        "  pre *= arrays[i]\n",
        "for i in range(len(arrays)-1,-1,-1):\n",
        "  ans[i] *= pos\n",
        "  pos *= arrays[i]\n",
        "print(ans)"
      ]
    },
    {
      "cell_type": "markdown",
      "source": [
        "How to find products of all elements in a list?"
      ],
      "metadata": {
        "id": "xFx-_OY-vr57"
      }
    },
    {
      "cell_type": "code",
      "source": [
        "res = 1\n",
        "for i in arrays:\n",
        "  res = res * i\n",
        "print(res)"
      ],
      "metadata": {
        "colab": {
          "base_uri": "https://localhost:8080/"
        },
        "id": "jmJ_sAuNrStA",
        "outputId": "f96a866d-0e02-4235-c8e0-1e1e7cd2b309"
      },
      "execution_count": 2,
      "outputs": [
        {
          "output_type": "stream",
          "name": "stdout",
          "text": [
            "120\n"
          ]
        }
      ]
    },
    {
      "cell_type": "code",
      "source": [
        ""
      ],
      "metadata": {
        "id": "t5HKNYzQv-QB"
      },
      "execution_count": null,
      "outputs": []
    }
  ]
}