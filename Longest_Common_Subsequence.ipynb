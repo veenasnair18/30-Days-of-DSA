{
  "nbformat": 4,
  "nbformat_minor": 0,
  "metadata": {
    "colab": {
      "name": "Longest Common Subsequence.ipynb",
      "provenance": [],
      "authorship_tag": "ABX9TyNO5+s+FEAdLZahTdu9ZtQh",
      "include_colab_link": true
    },
    "kernelspec": {
      "name": "python3",
      "display_name": "Python 3"
    },
    "language_info": {
      "name": "python"
    }
  },
  "cells": [
    {
      "cell_type": "markdown",
      "metadata": {
        "id": "view-in-github",
        "colab_type": "text"
      },
      "source": [
        "<a href=\"https://colab.research.google.com/github/veenasnair18/30-Days-of-DSA/blob/main/Longest_Common_Subsequence.ipynb\" target=\"_parent\"><img src=\"https://colab.research.google.com/assets/colab-badge.svg\" alt=\"Open In Colab\"/></a>"
      ]
    },
    {
      "cell_type": "markdown",
      "source": [
        "Given two strings text1 and text2, return the length of their longest common subsequence. If there is no common subsequence, return 0.\n",
        "\n",
        "A subsequence of a string is a new string generated from the original string with some characters (can be none) deleted without changing the relative order of the remaining characters.\n",
        "\n",
        "For example, \"ace\" is a subsequence of \"abcde\".\n",
        "A common subsequence of two strings is a subsequence that is common to both strings.\n",
        "> * Input: text1 = \"abcde\", text2 = \"ace\" \n",
        "* Output: 3  \n",
        "* Explanation: The longest common subsequence is \"ace\" and its length is 3\n",
        "\n"
      ],
      "metadata": {
        "id": "dfZbEMflr5gm"
      }
    },
    {
      "cell_type": "code",
      "execution_count": 1,
      "metadata": {
        "colab": {
          "base_uri": "https://localhost:8080/"
        },
        "id": "35NkiVbFr1ju",
        "outputId": "02a0a80c-9aa7-4bf7-dbb3-49287c78dc6e"
      },
      "outputs": [
        {
          "output_type": "stream",
          "name": "stdout",
          "text": [
            "Length of LCS is  4\n"
          ]
        }
      ],
      "source": [
        "# Dynamic Programming implementation of LCS problem\n",
        "\n",
        "def lcs(X , Y):\n",
        "\t# find the length of the strings\n",
        "\tm = len(X)\n",
        "\tn = len(Y)\n",
        "\n",
        "\t# declaring the array for storing the dp values\n",
        "\tL = [[None]*(n+1) for i in range(m+1)]\n",
        "\n",
        "\t\"\"\"Following steps build L[m+1][n+1] in bottom up fashion\n",
        "\tNote: L[i][j] contains length of LCS of X[0..i-1]\n",
        "\tand Y[0..j-1]\"\"\"\n",
        "\tfor i in range(m+1):\n",
        "\t\tfor j in range(n+1):\n",
        "\t\t\tif i == 0 or j == 0 :\n",
        "\t\t\t\tL[i][j] = 0\n",
        "\t\t\telif X[i-1] == Y[j-1]:\n",
        "\t\t\t\tL[i][j] = L[i-1][j-1]+1\n",
        "\t\t\telse:\n",
        "\t\t\t\tL[i][j] = max(L[i-1][j] , L[i][j-1])\n",
        "\n",
        "\t# L[m][n] contains the length of LCS of X[0..n-1] & Y[0..m-1]\n",
        "\treturn L[m][n]\n",
        "#end of function lcs\n",
        "\n",
        "\n",
        "# Driver program to test the above function\n",
        "X = \"AGGTAB\"\n",
        "Y = \"GXTXAYB\"\n",
        "print (\"Length of LCS is \", lcs(X, Y) )\n",
        "\n",
        "# This code is contributed by Nikhil Kumar Singh(nickzuck_007)\n"
      ]
    }
  ]
}