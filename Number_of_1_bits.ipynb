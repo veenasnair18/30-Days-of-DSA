{
  "nbformat": 4,
  "nbformat_minor": 0,
  "metadata": {
    "colab": {
      "name": "Number of 1 bits.ipynb",
      "provenance": [],
      "authorship_tag": "ABX9TyNK4fZrIfYRYkLNnVMehofr",
      "include_colab_link": true
    },
    "kernelspec": {
      "name": "python3",
      "display_name": "Python 3"
    },
    "language_info": {
      "name": "python"
    }
  },
  "cells": [
    {
      "cell_type": "markdown",
      "metadata": {
        "id": "view-in-github",
        "colab_type": "text"
      },
      "source": [
        "<a href=\"https://colab.research.google.com/github/veenasnair18/30-Days-of-DSA/blob/main/Number_of_1_bits.ipynb\" target=\"_parent\"><img src=\"https://colab.research.google.com/assets/colab-badge.svg\" alt=\"Open In Colab\"/></a>"
      ]
    },
    {
      "cell_type": "markdown",
      "source": [
        "Write a function that takes an unsigned integer and returns the number of '1' bits it has (also known as the Hamming weight).\n",
        "> * Input: n = 00000000000000000000000000001011\n",
        "* Output: 3\n",
        "* Explanation: The input binary string 00000000000000000000000000001011 has a total of three '1' bits"
      ],
      "metadata": {
        "id": "FDDWp9zgx8eW"
      }
    },
    {
      "cell_type": "code",
      "execution_count": 14,
      "metadata": {
        "colab": {
          "base_uri": "https://localhost:8080/"
        },
        "id": "YM7z11OXxXaN",
        "outputId": "6cc41925-8f33-4cc6-de90-dc0a862f0a16"
      },
      "outputs": [
        {
          "output_type": "stream",
          "name": "stdout",
          "text": [
            "1010101010100101\n",
            "8\n"
          ]
        }
      ],
      "source": [
        "i = int(input())\n",
        "st = str(i)\n",
        "counts = 0\n",
        "for j in range(len(st)):\n",
        "  if(st[j]=='1'):\n",
        "    counts +=1\n",
        "print(counts)"
      ]
    },
    {
      "cell_type": "code",
      "source": [
        "l = list(st)\n",
        "print(l)\n",
        "b = l.count('1')\n",
        "print(b)"
      ],
      "metadata": {
        "colab": {
          "base_uri": "https://localhost:8080/"
        },
        "id": "p_62JHV7yc25",
        "outputId": "b204cab9-344f-473d-8e9a-27506c614a05"
      },
      "execution_count": 17,
      "outputs": [
        {
          "output_type": "stream",
          "name": "stdout",
          "text": [
            "['1', '0', '1', '0', '1', '0', '1', '0', '1', '0', '1', '0', '0', '1', '0', '1']\n",
            "8\n"
          ]
        }
      ]
    },
    {
      "cell_type": "code",
      "source": [
        "#Accepted solution\n",
        "a = bin(i)\n",
        "print(a.count('1'))"
      ],
      "metadata": {
        "colab": {
          "base_uri": "https://localhost:8080/"
        },
        "id": "nGmYPDKjzTJP",
        "outputId": "7517157b-3e67-49c2-c685-dd44e05d082c"
      },
      "execution_count": 21,
      "outputs": [
        {
          "output_type": "stream",
          "name": "stdout",
          "text": [
            "00000000000000000000000000001011\n",
            "8\n"
          ]
        }
      ]
    },
    {
      "cell_type": "code",
      "source": [
        ""
      ],
      "metadata": {
        "id": "0TcYxD_Z2WWn"
      },
      "execution_count": null,
      "outputs": []
    }
  ]
}