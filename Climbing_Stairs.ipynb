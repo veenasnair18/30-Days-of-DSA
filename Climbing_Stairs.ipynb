{
  "nbformat": 4,
  "nbformat_minor": 0,
  "metadata": {
    "colab": {
      "name": "Climbing Stairs.ipynb",
      "provenance": [],
      "authorship_tag": "ABX9TyOmhDoaWVu4bDcGFO384sWQ",
      "include_colab_link": true
    },
    "kernelspec": {
      "name": "python3",
      "display_name": "Python 3"
    },
    "language_info": {
      "name": "python"
    }
  },
  "cells": [
    {
      "cell_type": "markdown",
      "metadata": {
        "id": "view-in-github",
        "colab_type": "text"
      },
      "source": [
        "<a href=\"https://colab.research.google.com/github/veenasnair18/30-Days-of-DSA/blob/main/Climbing_Stairs.ipynb\" target=\"_parent\"><img src=\"https://colab.research.google.com/assets/colab-badge.svg\" alt=\"Open In Colab\"/></a>"
      ]
    },
    {
      "cell_type": "markdown",
      "source": [
        "You are climbing a staircase. It takes n steps to reach the top.\n",
        "\n",
        "Each time you can either climb 1 or 2 steps. In how many distinct ways can you climb to the top?\n",
        "> * Input: n = 2\n",
        "* Output: 2"
      ],
      "metadata": {
        "id": "-khTaNx49V5G"
      }
    },
    {
      "cell_type": "code",
      "source": [
        "n = int(input())\n",
        "a = 0\n",
        "b = 1\n",
        "\t\n",
        "\t# Check is n is less\n",
        "\t# than 0\n",
        "if n < 0:\n",
        "\tprint(\"Incorrect input\")\n",
        "\t\t\n",
        "\t# Check is n is equal\n",
        "\t# to 0\n",
        "elif n == 0:\n",
        "\tprint(0)\n",
        "\t\n",
        "\t# Check if n is equal to 1\n",
        "elif n == 1:\n",
        "\tprint(b)\n",
        "else:\n",
        "\tfor i in range(1, n):\n",
        "\t\tc = a + b\n",
        "\t\ta = b\n",
        "\t\tb = c\n",
        "\tprint(b)\n",
        "\n"
      ],
      "metadata": {
        "colab": {
          "base_uri": "https://localhost:8080/"
        },
        "id": "sKARqOXzAfrP",
        "outputId": "8357e646-0905-4177-fae2-9397790112e6"
      },
      "execution_count": 10,
      "outputs": [
        {
          "output_type": "stream",
          "name": "stdout",
          "text": [
            "4\n",
            "3\n"
          ]
        }
      ]
    },
    {
      "cell_type": "code",
      "source": [
        "class Solution:\n",
        "    def climbStairs(self, n: int) -> int:\n",
        "        a = 0\n",
        "        b = 1\n",
        "        if(n<0 or n==0):\n",
        "            return 0\n",
        "        elif(n==1):\n",
        "            return b\n",
        "        else:\n",
        "            for i in range(0, n):\n",
        "                c = a + b\n",
        "                a = b\n",
        "                b = c\n",
        "        return(b)"
      ],
      "metadata": {
        "id": "x0w9iGcdA9ND"
      },
      "execution_count": null,
      "outputs": []
    }
  ]
}