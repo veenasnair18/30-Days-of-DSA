{
  "nbformat": 4,
  "nbformat_minor": 0,
  "metadata": {
    "colab": {
      "name": "3Sum.ipynb",
      "provenance": [],
      "authorship_tag": "ABX9TyPXkMFP2eg+HyVcck4VWP2E",
      "include_colab_link": true
    },
    "kernelspec": {
      "name": "python3",
      "display_name": "Python 3"
    },
    "language_info": {
      "name": "python"
    }
  },
  "cells": [
    {
      "cell_type": "markdown",
      "metadata": {
        "id": "view-in-github",
        "colab_type": "text"
      },
      "source": [
        "<a href=\"https://colab.research.google.com/github/veenasnair18/30-Days-of-DSA/blob/main/3Sum.ipynb\" target=\"_parent\"><img src=\"https://colab.research.google.com/assets/colab-badge.svg\" alt=\"Open In Colab\"/></a>"
      ]
    },
    {
      "cell_type": "markdown",
      "source": [
        "Given an integer array nums, return all the triplets [nums[i], nums[j], nums[k]] such that i != j, i != k, and j != k, and nums[i] + nums[j] + nums[k] == 0.\n",
        "\n",
        "Notice that the solution set must not contain duplicate triplets.\n",
        "> * Input: nums = [-1,0,1,2,-1,-4]\n",
        "* Output: [[-1,-1,2],[-1,0,1]]"
      ],
      "metadata": {
        "id": "n1xkKqqUHrNS"
      }
    },
    {
      "cell_type": "code",
      "execution_count": 5,
      "metadata": {
        "colab": {
          "base_uri": "https://localhost:8080/"
        },
        "id": "q9-xunGKHqMi",
        "outputId": "5eb7b46b-acd9-468c-a4db-a2ca8846127f"
      },
      "outputs": [
        {
          "name": "stdout",
          "output_type": "stream",
          "text": [
            "5\n",
            "-1\n",
            "2\n",
            "-2\n",
            "-1\n",
            "0\n"
          ]
        }
      ],
      "source": [
        "nums = []\n",
        "n = int(input())\n",
        "for i in range(n):\n",
        "  b = int(input())\n",
        "  nums.append(b)"
      ]
    },
    {
      "cell_type": "code",
      "source": [
        "nums.sort()\n",
        "print(nums)"
      ],
      "metadata": {
        "colab": {
          "base_uri": "https://localhost:8080/"
        },
        "id": "JONcv0b7M3UQ",
        "outputId": "b2d97d6d-8e74-4dd4-8fcd-ef387cea0873"
      },
      "execution_count": 7,
      "outputs": [
        {
          "output_type": "stream",
          "name": "stdout",
          "text": [
            "[-2, -1, -1, 0, 2]\n"
          ]
        }
      ]
    },
    {
      "cell_type": "code",
      "source": [
        "ans = []\n",
        "for i,a in enumerate(nums):\n",
        "  if i>0 and a==nums[i-1]:\n",
        "    continue\n",
        "  l,r = i+1 , len(nums)-1\n",
        "  while l<r:\n",
        "    sumoftri = a + nums[l] + nums[r]\n",
        "    if sumoftri > 0:\n",
        "      r -=1\n",
        "    elif sumoftri < 0:\n",
        "      l +=1\n",
        "    else:\n",
        "      ans.append([a,nums[l],nums[r]])\n",
        "      l +=1\n",
        "      while nums[l]==nums[l-1] and l<r:\n",
        "        l +=1\n",
        "print(ans)"
      ],
      "metadata": {
        "colab": {
          "base_uri": "https://localhost:8080/"
        },
        "id": "vg83hTtuNJbS",
        "outputId": "cbded1db-df60-450b-a797-78dde6a8f760"
      },
      "execution_count": 9,
      "outputs": [
        {
          "output_type": "stream",
          "name": "stdout",
          "text": [
            "[[-2, 0, 2], [-1, -1, 2]]\n"
          ]
        }
      ]
    },
    {
      "cell_type": "code",
      "source": [
        ""
      ],
      "metadata": {
        "id": "lwwQAqWvQQik"
      },
      "execution_count": null,
      "outputs": []
    }
  ]
}