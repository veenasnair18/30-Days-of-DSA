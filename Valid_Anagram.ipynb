{
  "nbformat": 4,
  "nbformat_minor": 0,
  "metadata": {
    "colab": {
      "name": "Valid Anagram.ipynb",
      "provenance": [],
      "authorship_tag": "ABX9TyNuBk0/prYB97LWH+Q4vmGw",
      "include_colab_link": true
    },
    "kernelspec": {
      "name": "python3",
      "display_name": "Python 3"
    },
    "language_info": {
      "name": "python"
    }
  },
  "cells": [
    {
      "cell_type": "markdown",
      "metadata": {
        "id": "view-in-github",
        "colab_type": "text"
      },
      "source": [
        "<a href=\"https://colab.research.google.com/github/veenasnair18/30-Days-of-DSA/blob/main/Valid_Anagram.ipynb\" target=\"_parent\"><img src=\"https://colab.research.google.com/assets/colab-badge.svg\" alt=\"Open In Colab\"/></a>"
      ]
    },
    {
      "cell_type": "markdown",
      "source": [
        "Given two strings s and t, return true if t is an anagram of s, and false otherwise.\n",
        "\n",
        "An Anagram is a word or phrase formed by rearranging the letters of a different word or phrase, typically using all the original letters exactly once.\n",
        "> * Input: s = \"anagram\", t = \"nagaram\"\n",
        "* Output: true"
      ],
      "metadata": {
        "id": "94K-tbgQb8IR"
      }
    },
    {
      "cell_type": "code",
      "execution_count": 7,
      "metadata": {
        "colab": {
          "base_uri": "https://localhost:8080/"
        },
        "id": "jm1tgMouVwVv",
        "outputId": "7814dc5e-d0e7-4875-cd71-1f70b24135ff"
      },
      "outputs": [
        {
          "output_type": "stream",
          "name": "stdout",
          "text": [
            "{'r', 'a', 'c'} {'r', 'a', 't'}\n",
            "Wrong\n"
          ]
        }
      ],
      "source": [
        "a = \"car\"\n",
        "b = \"rat\"\n",
        "s = set(a)\n",
        "t = set(b)\n",
        "print(s,t)\n",
        "if(s==t):\n",
        "  print(\"YAAS\")\n",
        "else:\n",
        "  print(\"Wrong\")"
      ]
    },
    {
      "cell_type": "code",
      "source": [
        "if(sorted(a)==sorted(b)):\n",
        "  print(True)\n",
        "else:\n",
        "  print(False)"
      ],
      "metadata": {
        "colab": {
          "base_uri": "https://localhost:8080/"
        },
        "id": "1GPRBhk6V-o-",
        "outputId": "7db61a61-2ddd-4180-aa24-8f4b58843960"
      },
      "execution_count": 8,
      "outputs": [
        {
          "output_type": "stream",
          "name": "stdout",
          "text": [
            "False\n"
          ]
        }
      ]
    },
    {
      "cell_type": "code",
      "source": [
        ""
      ],
      "metadata": {
        "id": "sOY5nGvXb6O5"
      },
      "execution_count": null,
      "outputs": []
    }
  ]
}