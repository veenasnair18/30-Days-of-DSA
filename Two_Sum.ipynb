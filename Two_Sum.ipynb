{
  "nbformat": 4,
  "nbformat_minor": 0,
  "metadata": {
    "colab": {
      "name": "Two Sum.ipynb",
      "provenance": []
    },
    "kernelspec": {
      "name": "python3",
      "display_name": "Python 3"
    },
    "language_info": {
      "name": "python"
    }
  },
  "cells": [
    {
      "cell_type": "markdown",
      "source": [
        "## DSA Problem 1 \n",
        "Given an array of integers nums and an integer target, return indices of the two numbers such that they add up to target.\n",
        "\n",
        "You may assume that each input would have exactly one solution, and you may not use the same element twice.\n",
        "\n",
        "You can return the answer in any order.\n",
        "\n",
        "> Example 1:\n",
        "* Input: nums = [2,7,11,15], target = 9\n",
        "* Output: [0,1]\n",
        "* Explanation: Because nums[0] + nums[1] == 9, we return [0, 1].\n",
        "\n"
      ],
      "metadata": {
        "id": "91i1so3cFfiO"
      }
    },
    {
      "cell_type": "code",
      "source": [
        "nums = []\n",
        "n = int(input())\n",
        "for i in range(n):\n",
        "  a = int(input())\n",
        "  nums.append(a)\n",
        "print(nums)\n",
        "#nums = [int(i) for i in nums]\n",
        "#print(nums)\n",
        "tar = int(input())\n",
        "print(sumtwo(nums,tar))\n",
        "def sumtwo(n,t):\n",
        "  for x in nums:\n",
        "    for y in nums:#[nums.index(x):]:\n",
        "      if x+y==tar:\n",
        "        return(nums.index(x),nums.index(y))\n",
        "        break;"
      ],
      "metadata": {
        "colab": {
          "base_uri": "https://localhost:8080/"
        },
        "id": "CnywuFxSKslr",
        "outputId": "b359a25c-01b3-43df-bd96-d155c86df66e"
      },
      "execution_count": 54,
      "outputs": [
        {
          "output_type": "stream",
          "name": "stdout",
          "text": [
            "3\n",
            "3\n",
            "6\n",
            "9\n",
            "[3, 6, 9]\n",
            "15\n",
            "(1, 2)\n"
          ]
        }
      ]
    },
    {
      "cell_type": "markdown",
      "source": [
        "Using Hashmap"
      ],
      "metadata": {
        "id": "E8YdFC5iZjoL"
      }
    },
    {
      "cell_type": "code",
      "source": [
        "nums = []\n",
        "n = int(input())\n",
        "for i in range(n):\n",
        "  a = int(input())\n",
        "  nums.append(a)\n",
        "print(nums)\n",
        "#nums = [int(i) for i in nums]\n",
        "#print(nums)\n",
        "tar = int(input())\n",
        "print(sumtwo(nums,tar))\n",
        "def sumtwo(n,t):\n",
        "        hm = {}\n",
        "        for i, j in enumerate(nums):\n",
        "          left = target - nums[i]\n",
        "           \n",
        "          if left in hm:\n",
        "            return [hm[left],i]\n",
        "            \n",
        "          hm[j] = i"
      ],
      "metadata": {
        "colab": {
          "base_uri": "https://localhost:8080/"
        },
        "id": "mUIAdvbDPE9d",
        "outputId": "4dede825-e636-450e-cf1e-173d014dd7c6"
      },
      "execution_count": 56,
      "outputs": [
        {
          "output_type": "stream",
          "name": "stdout",
          "text": [
            "3\n",
            "3\n",
            "6\n",
            "9\n",
            "[3, 6, 9]\n",
            "15\n",
            "[0, 1]\n"
          ]
        }
      ]
    },
    {
      "cell_type": "code",
      "source": [
        ""
      ],
      "metadata": {
        "id": "kIldQiTZTkMv"
      },
      "execution_count": null,
      "outputs": []
    }
  ]
}