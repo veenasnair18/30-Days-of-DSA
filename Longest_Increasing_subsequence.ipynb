{
  "nbformat": 4,
  "nbformat_minor": 0,
  "metadata": {
    "colab": {
      "name": "Longest Increasing subsequence.ipynb",
      "provenance": [],
      "authorship_tag": "ABX9TyPkS0deMx4fXdr0GGRgj8s8",
      "include_colab_link": true
    },
    "kernelspec": {
      "name": "python3",
      "display_name": "Python 3"
    },
    "language_info": {
      "name": "python"
    }
  },
  "cells": [
    {
      "cell_type": "markdown",
      "metadata": {
        "id": "view-in-github",
        "colab_type": "text"
      },
      "source": [
        "<a href=\"https://colab.research.google.com/github/veenasnair18/30-Days-of-DSA/blob/main/Longest_Increasing_subsequence.ipynb\" target=\"_parent\"><img src=\"https://colab.research.google.com/assets/colab-badge.svg\" alt=\"Open In Colab\"/></a>"
      ]
    },
    {
      "cell_type": "markdown",
      "source": [
        "Given an integer array nums, return the length of the longest strictly increasing subsequence.\n",
        "\n",
        "A subsequence is a sequence that can be derived from an array by deleting some or no elements without changing the order of the remaining elements. For example, [3,6,2,7] is a subsequence of the array [0,3,1,6,2,2,7].\n",
        "> * Input: nums = [10,9,2,5,3,7,101,18]\n",
        "> * Output: 4\n",
        "> * Explanation: The longest increasing subsequence is [2,3,7,101], therefore the length is 4.\n",
        "\n",
        "\n",
        "\n",
        "```\n",
        "class Solution:\n",
        "    def lengthOfLIS(self, nums: List[int]) -> int:\n",
        "        l = len(nums)\n",
        "        temp = [1] * l\n",
        "        for i in range(l):\n",
        "            for j in range(i):\n",
        "                if nums[i] > nums[j] and temp[i] < temp[j] + 1:\n",
        "                    temp[i] = temp[j] + 1\n",
        "        return max(temp)\n",
        "```\n",
        "\n"
      ],
      "metadata": {
        "id": "YkVYsYWeXhZ1"
      }
    }
  ]
}