{
  "nbformat": 4,
  "nbformat_minor": 0,
  "metadata": {
    "colab": {
      "name": "Search in Rotated Sorted Array.ipynb",
      "provenance": [],
      "authorship_tag": "ABX9TyOr+M6ILHH8D+8wzbGWHM/A",
      "include_colab_link": true
    },
    "kernelspec": {
      "name": "python3",
      "display_name": "Python 3"
    },
    "language_info": {
      "name": "python"
    }
  },
  "cells": [
    {
      "cell_type": "markdown",
      "metadata": {
        "id": "view-in-github",
        "colab_type": "text"
      },
      "source": [
        "<a href=\"https://colab.research.google.com/github/veenasnair18/30-Days-of-DSA/blob/main/Search_in_Rotated_Sorted_Array.ipynb\" target=\"_parent\"><img src=\"https://colab.research.google.com/assets/colab-badge.svg\" alt=\"Open In Colab\"/></a>"
      ]
    },
    {
      "cell_type": "markdown",
      "source": [
        "There is an integer array nums sorted in ascending order (with distinct values).\n",
        "\n",
        "Prior to being passed to your function, nums is possibly rotated at an unknown pivot index k (1 <= k < nums.length) such that the resulting array is [nums[k], nums[k+1], ..., nums[n-1], nums[0], nums[1], ..., nums[k-1]] (0-indexed). For example, [0,1,2,4,5,6,7] might be rotated at pivot index 3 and become [4,5,6,7,0,1,2].\n",
        "\n",
        "Given the array nums after the possible rotation and an integer target, return the index of target if it is in nums, or -1 if it is not in nums.\n",
        "\n",
        "You must write an algorithm with O(log n) runtime complexity.\n",
        "> * Input: nums = [4,5,6,7,0,1,2], target = 0\n",
        "* Output: 4\n",
        "\n",
        "\n",
        "```\n",
        "low, high = 0, len(nums)\n",
        "        while low < high:\n",
        "            mid = (low+high) // 2\n",
        "            if target < nums[0] < nums[mid]: # -inf\n",
        "                low = mid+1\n",
        "            elif target >= nums[0] > nums[mid]: # +inf\n",
        "                high = mid\n",
        "            elif nums[mid] < target:\n",
        "                low = mid+1\n",
        "            elif nums[mid] > target:\n",
        "                high = mid\n",
        "            else:\n",
        "                return mid\n",
        "        return -1\n",
        "        \n",
        "```\n",
        "\n"
      ],
      "metadata": {
        "id": "opmrO4SVeoGB"
      }
    },
    {
      "cell_type": "code",
      "source": [
        ""
      ],
      "metadata": {
        "id": "x7fNp1zIg_Tj"
      },
      "execution_count": null,
      "outputs": []
    }
  ]
}