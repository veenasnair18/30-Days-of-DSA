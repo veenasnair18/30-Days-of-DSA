{
  "nbformat": 4,
  "nbformat_minor": 0,
  "metadata": {
    "colab": {
      "name": "Merge Two sorted list.ipynb",
      "provenance": [],
      "authorship_tag": "ABX9TyMKrrzi/yQdALt330U7hSVa",
      "include_colab_link": true
    },
    "kernelspec": {
      "name": "python3",
      "display_name": "Python 3"
    },
    "language_info": {
      "name": "python"
    }
  },
  "cells": [
    {
      "cell_type": "markdown",
      "metadata": {
        "id": "view-in-github",
        "colab_type": "text"
      },
      "source": [
        "<a href=\"https://colab.research.google.com/github/veenasnair18/30-Days-of-DSA/blob/main/Merge_Two_sorted_list.ipynb\" target=\"_parent\"><img src=\"https://colab.research.google.com/assets/colab-badge.svg\" alt=\"Open In Colab\"/></a>"
      ]
    },
    {
      "cell_type": "markdown",
      "source": [
        "You are given the heads of two sorted linked lists list1 and list2.\n",
        "\n",
        "Merge the two lists in a one sorted list. The list should be made by splicing together the nodes of the first two lists.\n",
        "\n",
        "Return the head of the merged linked list\n",
        "> * Input: list1 = [1,2,4], list2 = [1,3,4]\n",
        "* Output: [1,1,2,3,4,4]\n",
        "\n",
        "\n",
        "```\n",
        "class Solution:\n",
        "    def mergeTwoLists(self, list1: Optional[ListNode], list2: Optional[ListNode]) -> Optional[ListNode]:\n",
        "        cur = temp = ListNode()\n",
        "        while list1 and list2:               \n",
        "            if list1.val < list2.val:\n",
        "                cur.next = list1\n",
        "                list1, cur = list1.next, list1\n",
        "            else:\n",
        "                cur.next = list2\n",
        "                list2, cur = list2.next, list2\n",
        "                \n",
        "        if list1 or list2:\n",
        "            cur.next = list1 if list1 else list2\n",
        "            \n",
        "        return temp.next\n",
        "```\n",
        "\n"
      ],
      "metadata": {
        "id": "NXlOkEGTCgbe"
      }
    },
    {
      "cell_type": "code",
      "execution_count": null,
      "metadata": {
        "id": "oHogWgO2CdQ8"
      },
      "outputs": [],
      "source": [
        ""
      ]
    }
  ]
}