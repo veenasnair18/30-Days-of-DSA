{
  "nbformat": 4,
  "nbformat_minor": 0,
  "metadata": {
    "colab": {
      "name": "Container with Most water.ipynb",
      "provenance": [],
      "collapsed_sections": [],
      "authorship_tag": "ABX9TyNNWG2HVLKoqDb4ylOZW+YG",
      "include_colab_link": true
    },
    "kernelspec": {
      "name": "python3",
      "display_name": "Python 3"
    },
    "language_info": {
      "name": "python"
    }
  },
  "cells": [
    {
      "cell_type": "markdown",
      "metadata": {
        "id": "view-in-github",
        "colab_type": "text"
      },
      "source": [
        "<a href=\"https://colab.research.google.com/github/veenasnair18/30-Days-of-DSA/blob/main/Container_with_Most_water.ipynb\" target=\"_parent\"><img src=\"https://colab.research.google.com/assets/colab-badge.svg\" alt=\"Open In Colab\"/></a>"
      ]
    },
    {
      "cell_type": "markdown",
      "source": [
        "You are given an integer array height of length n. There are n vertical lines drawn such that the two endpoints of the ith line are (i, 0) and (i, height[i]).\n",
        "\n",
        "Find two lines that together with the x-axis form a container, such that the container contains the most water.\n",
        "\n",
        "Return the maximum amount of water a container can store.\n",
        "\n",
        "Notice that you may not slant the container.\n",
        "> * Input: height = [1,8,6,2,5,4,8,3,7]\n",
        "* Output: 49"
      ],
      "metadata": {
        "id": "BRo0TvY51Q-H"
      }
    },
    {
      "cell_type": "code",
      "source": [
        "H = []\n",
        "n = int(input())\n",
        "for i in range(n):\n",
        "  a = int(input())\n",
        "  H.append(a)\n",
        "ans, i, j = 0, 0, len(H)-1\n",
        "while (i < j):\n",
        "  if H[i] <= H[j]:\n",
        "    res = H[i] * (j - i)\n",
        "    i += 1\n",
        "  else:\n",
        "    res = H[j] * (j - i)\n",
        "    j -= 1\n",
        "    if res > ans: \n",
        "      ans = res\n",
        "print(ans)"
      ],
      "metadata": {
        "colab": {
          "base_uri": "https://localhost:8080/"
        },
        "id": "V2qrTkPFIndy",
        "outputId": "19147c86-5bce-4888-c14c-fcca09c6982b"
      },
      "execution_count": 4,
      "outputs": [
        {
          "output_type": "stream",
          "name": "stdout",
          "text": [
            "4\n",
            "2\n",
            "8\n",
            "1\n",
            "3\n",
            "6\n"
          ]
        }
      ]
    },
    {
      "cell_type": "code",
      "source": [
        ""
      ],
      "metadata": {
        "id": "DVE6OvAsJpBF"
      },
      "execution_count": null,
      "outputs": []
    }
  ]
}